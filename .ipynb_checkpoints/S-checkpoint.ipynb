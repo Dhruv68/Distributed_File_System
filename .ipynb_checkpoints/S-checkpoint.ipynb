{
 "cells": [
  {
   "cell_type": "code",
   "execution_count": null,
   "id": "15d2ec50",
   "metadata": {},
   "outputs": [],
   "source": [
    "import socket\n",
    "from threading import Thread\n",
    "from SocketServer import ThreadingMixIn"
   ]
  },
  {
   "cell_type": "code",
   "execution_count": null,
   "id": "184b2e25",
   "metadata": {},
   "outputs": [],
   "source": [
    "TCP_IP = 'localhost'\n",
    "TCP_PORT = 9001\n",
    "BUFFER_SIZE = 1024"
   ]
  },
  {
   "cell_type": "code",
   "execution_count": null,
   "id": "61e46148",
   "metadata": {},
   "outputs": [],
   "source": [
    "class ClientThread(Thread):\n",
    "\n",
    "    def __init__(self,ip,port,sock):\n",
    "        Thread.__init__(self)\n",
    "        self.ip = ip\n",
    "        self.port = port\n",
    "        self.sock = sock\n",
    "        print \" New thread started for \"+ip+\":\"+str(port)\n",
    "\n",
    "    def run(self):\n",
    "        filename='mytext.txt'\n",
    "        f = open(filename,'rb')\n",
    "        while True:\n",
    "            l = f.read(BUFFER_SIZE)\n",
    "            while (l):\n",
    "                self.sock.send(l)\n",
    "                #print('Sent ',repr(l))\n",
    "                l = f.read(BUFFER_SIZE)\n",
    "            if not l:\n",
    "                f.close()\n",
    "                self.sock.close()\n",
    "                break\n",
    "\n",
    "tcpsock = socket.socket(socket.AF_INET, socket.SOCK_STREAM)\n",
    "tcpsock.setsockopt(socket.SOL_SOCKET, socket.SO_REUSEADDR, 1)\n",
    "tcpsock.bind((TCP_IP, TCP_PORT))\n",
    "threads = []\n",
    "\n",
    "while True:\n",
    "    tcpsock.listen(5)\n",
    "    print \"Waiting for incoming connections...\"\n",
    "    (conn, (ip,port)) = tcpsock.accept()\n",
    "    print 'Got connection from ', (ip,port)\n",
    "    newthread = ClientThread(ip,port,conn)\n",
    "    newthread.start()\n",
    "    threads.append(newthread)\n",
    "\n",
    "for t in threads:\n",
    "    t.join()"
   ]
  },
  {
   "cell_type": "code",
   "execution_count": null,
   "id": "27e9e636",
   "metadata": {},
   "outputs": [],
   "source": []
  }
 ],
 "metadata": {
  "kernelspec": {
   "display_name": "Python 3 (ipykernel)",
   "language": "python",
   "name": "python3"
  },
  "language_info": {
   "codemirror_mode": {
    "name": "ipython",
    "version": 3
   },
   "file_extension": ".py",
   "mimetype": "text/x-python",
   "name": "python",
   "nbconvert_exporter": "python",
   "pygments_lexer": "ipython3",
   "version": "3.9.7"
  }
 },
 "nbformat": 4,
 "nbformat_minor": 5
}
