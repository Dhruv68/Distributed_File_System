{
 "cells": [
  {
   "cell_type": "code",
   "execution_count": 1,
   "id": "65cd24a3",
   "metadata": {},
   "outputs": [],
   "source": [
    "import os\n",
    "import sys\n",
    "import pickle\n",
    "import json\n",
    "import socket as s\n",
    "import threading\n",
    "import traceback\n",
    "from socketserver import ThreadingTCPServer"
   ]
  },
  {
   "cell_type": "code",
   "execution_count": 2,
   "id": "6cd56fd4",
   "metadata": {},
   "outputs": [
    {
     "name": "stdout",
     "output_type": "stream",
     "text": [
      "10.200.149.56\n"
     ]
    }
   ],
   "source": [
    "IP_address = s.gethostbyname(s.gethostname())\n",
    "#IP = ['10.200.147.198','10.200.0.169','10.200.132.105']\n",
    "IP = ['10.200.149.56','10.200.136.136','10.200.149.56']\n",
    "port1 = 8088\n",
    "port = [3333, 3334, 3335]\n",
    "buffer = 1024\n",
    "max_connections = 1000\n",
    "client_buffer = 1024\n",
    "encoding_format = 'utf-8'\n",
    "print(IP_address)\n",
    "# IP1 = \"192.168.110.1\"\n",
    "# IP2 = \"10.200.136.136\"\n",
    "# IP3 = \"10.200.149.56\""
   ]
  },
  {
   "cell_type": "code",
   "execution_count": 3,
   "id": "3a5b4317",
   "metadata": {},
   "outputs": [
    {
     "data": {
      "text/plain": [
       "type"
      ]
     },
     "execution_count": 3,
     "metadata": {},
     "output_type": "execute_result"
    }
   ],
   "source": [
    "type "
   ]
  },
  {
   "cell_type": "code",
   "execution_count": 4,
   "id": "91eb44f2",
   "metadata": {},
   "outputs": [],
   "source": [
    "def perform_operation(conn, addr):\n",
    "    \n",
    "#  Getting the data from the client \n",
    "\n",
    "    while True:\n",
    "        data1 = conn.recv(buffer)\n",
    "        content = pickle.loads(data1)\n",
    "        operation = content[0]\n",
    "        \n",
    "########################################################################################\n",
    "# This section is for looping the connection to all server to make update in all server.\n",
    "########################################################################################\n",
    "\n",
    "        for i in range(3): \n",
    "            with s.socket(s.AF_INET, s.SOCK_STREAM) as client:\n",
    "                client.connect((IP[i], port[i]))\n",
    "                \n",
    "                \n",
    "                # This section is to read the file from single server instead of going through all server.\n",
    "#                 if operation.lower().strip() == \"readfile\":\n",
    "#                     client.send(data1)\n",
    "#                     data = client.recv(client_buffer)\n",
    "#                     break\n",
    "#                 else:\n",
    "#                     client.send(data1)\n",
    "#                     data = client.recv(client_buffer)\n",
    "\n",
    "\n",
    "                client.send(data1)\n",
    "                data = client.recv(client_buffer)\n",
    "        conn.send(data)\n",
    "    print(f\"[Disconnect] Disconnected {addr} client\")\n",
    "    conn.close()"
   ]
  },
  {
   "cell_type": "code",
   "execution_count": 5,
   "id": "82b3d441",
   "metadata": {},
   "outputs": [],
   "source": [
    "def connect_server():\n",
    "    #creating a new socket\n",
    "    #socket functions takes as argument the socket family and socket type\n",
    "    with s.socket(s.AF_INET, s.SOCK_STREAM) as server:\n",
    "        server.setsockopt(s.SOL_SOCKET, s.SO_REUSEADDR, 1)\n",
    "        try:\n",
    "            server.bind((IP_address, port1))\n",
    "        except:\n",
    "            print(\"Error in binding the socket\")\n",
    "            sys.exit()\n",
    "        thread_list = []\n",
    "        server.listen(max_connections) #queues upto 10 requests\n",
    "        print(f\"Server listening upto {max_connections - (threading.activeCount()-1)} connections\\n\")\n",
    "        while True:\n",
    "            connection, client_addr = server.accept()\n",
    "            try:\n",
    "                conn_thread = threading.Thread(target=perform_operation, args=(connection, client_addr))\n",
    "                conn_thread.start()\n",
    "                #thread_list.append(conn_thread)\n",
    "                print(f\"Total Active connections {threading.activeCount()-1}\")\n",
    "            except:\n",
    "                print(\"Error in starting the thread\")\n",
    "                traceback.print_exc()"
   ]
  },
  {
   "cell_type": "code",
   "execution_count": null,
   "id": "8810bd22",
   "metadata": {},
   "outputs": [
    {
     "name": "stdout",
     "output_type": "stream",
     "text": [
      "Server listening upto 995 connections\n",
      "\n",
      "Total Active connections 6\n"
     ]
    },
    {
     "name": "stderr",
     "output_type": "stream",
     "text": [
      "Exception in thread Thread-8:\n",
      "Traceback (most recent call last):\n",
      "  File \"C:\\Users\\dhruv\\anaconda3\\lib\\threading.py\", line 973, in _bootstrap_inner\n",
      "    self.run()\n",
      "  File \"C:\\Users\\dhruv\\anaconda3\\lib\\threading.py\", line 910, in run\n",
      "    self._target(*self._args, **self._kwargs)\n",
      "  File \"C:\\Users\\dhruv\\AppData\\Local\\Temp/ipykernel_13148/2660029164.py\", line 7, in perform_operation\n",
      "EOFError: Ran out of input\n"
     ]
    },
    {
     "name": "stdout",
     "output_type": "stream",
     "text": [
      "Total Active connections 6\n"
     ]
    },
    {
     "name": "stderr",
     "output_type": "stream",
     "text": [
      "Exception in thread Thread-9:\n",
      "Traceback (most recent call last):\n",
      "  File \"C:\\Users\\dhruv\\anaconda3\\lib\\threading.py\", line 973, in _bootstrap_inner\n",
      "    self.run()\n",
      "  File \"C:\\Users\\dhruv\\anaconda3\\lib\\threading.py\", line 910, in run\n",
      "    self._target(*self._args, **self._kwargs)\n",
      "  File \"C:\\Users\\dhruv\\AppData\\Local\\Temp/ipykernel_13148/2660029164.py\", line 7, in perform_operation\n",
      "_pickle.UnpicklingError: could not find MARK\n"
     ]
    },
    {
     "name": "stdout",
     "output_type": "stream",
     "text": [
      "Total Active connections 6\n",
      "Total Active connections 7\n"
     ]
    },
    {
     "name": "stderr",
     "output_type": "stream",
     "text": [
      "Exception in thread Thread-11:\n",
      "Traceback (most recent call last):\n",
      "  File \"C:\\Users\\dhruv\\anaconda3\\lib\\threading.py\", line 973, in _bootstrap_inner\n",
      "    self.run()\n",
      "  File \"C:\\Users\\dhruv\\anaconda3\\lib\\threading.py\", line 910, in run\n",
      "    self._target(*self._args, **self._kwargs)\n",
      "  File \"C:\\Users\\dhruv\\AppData\\Local\\Temp/ipykernel_13148/2660029164.py\", line 7, in perform_operation\n",
      "EOFError: Ran out of input\n"
     ]
    },
    {
     "name": "stdout",
     "output_type": "stream",
     "text": [
      "Total Active connections 7\n"
     ]
    },
    {
     "name": "stderr",
     "output_type": "stream",
     "text": [
      "Exception in thread Thread-12:\n",
      "Traceback (most recent call last):\n",
      "  File \"C:\\Users\\dhruv\\anaconda3\\lib\\threading.py\", line 973, in _bootstrap_inner\n",
      "    self.run()\n",
      "  File \"C:\\Users\\dhruv\\anaconda3\\lib\\threading.py\", line 910, in run\n",
      "    self._target(*self._args, **self._kwargs)\n",
      "  File \"C:\\Users\\dhruv\\AppData\\Local\\Temp/ipykernel_13148/2660029164.py\", line 7, in perform_operation\n",
      "_pickle.UnpicklingError: could not find MARK\n"
     ]
    },
    {
     "name": "stdout",
     "output_type": "stream",
     "text": [
      "Total Active connections 7\n"
     ]
    },
    {
     "name": "stderr",
     "output_type": "stream",
     "text": [
      "Exception in thread Thread-10:\n",
      "Traceback (most recent call last):\n",
      "  File \"C:\\Users\\dhruv\\anaconda3\\lib\\threading.py\", line 973, in _bootstrap_inner\n",
      "    self.run()\n",
      "  File \"C:\\Users\\dhruv\\anaconda3\\lib\\threading.py\", line 910, in run\n",
      "    self._target(*self._args, **self._kwargs)\n",
      "  File \"C:\\Users\\dhruv\\AppData\\Local\\Temp/ipykernel_13148/2660029164.py\", line 7, in perform_operation\n",
      "_pickle.UnpicklingError: could not find MARK\n"
     ]
    }
   ],
   "source": [
    "if __name__ == \"__main__\":\n",
    "    connect_server()"
   ]
  },
  {
   "cell_type": "code",
   "execution_count": null,
   "id": "d2a3c472",
   "metadata": {},
   "outputs": [],
   "source": []
  },
  {
   "cell_type": "code",
   "execution_count": null,
   "id": "923bd57e",
   "metadata": {},
   "outputs": [],
   "source": []
  }
 ],
 "metadata": {
  "kernelspec": {
   "display_name": "Python 3 (ipykernel)",
   "language": "python",
   "name": "python3"
  },
  "language_info": {
   "codemirror_mode": {
    "name": "ipython",
    "version": 3
   },
   "file_extension": ".py",
   "mimetype": "text/x-python",
   "name": "python",
   "nbconvert_exporter": "python",
   "pygments_lexer": "ipython3",
   "version": "3.9.7"
  }
 },
 "nbformat": 4,
 "nbformat_minor": 5
}
