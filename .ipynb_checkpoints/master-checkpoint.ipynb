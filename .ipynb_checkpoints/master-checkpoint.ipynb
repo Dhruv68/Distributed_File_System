{
 "cells": [
  {
   "cell_type": "code",
   "execution_count": 1,
   "id": "65cd24a3",
   "metadata": {},
   "outputs": [],
   "source": [
    "import os\n",
    "import sys\n",
    "import pandas as pd\n",
    "import pickle\n",
    "import json\n",
    "import socket as s\n",
    "import threading\n",
    "import traceback\n",
    "from socketserver import ThreadingTCPServer"
   ]
  },
  {
   "cell_type": "code",
   "execution_count": 2,
   "id": "6cd56fd4",
   "metadata": {},
   "outputs": [
    {
     "name": "stdout",
     "output_type": "stream",
     "text": [
      "10.200.133.129\n"
     ]
    }
   ],
   "source": [
    "IP_address = s.gethostbyname(s.gethostname())\n",
    "#IP = ['10.200.147.198','10.200.0.169','10.200.132.105']\n",
    "\n",
    "# Enter the IPs of the servers in order: [Server1   Server 2   Server 3]\n",
    "IP = ['10.200.133.129','10.200.133.129','10.200.133.129']\n",
    "port1 = 8088\n",
    "# This are the ports of the respective srvers port: [Server1   Server 2   Server 3] at whiich master node will connect \n",
    "port = [3333, 3334, 3335]\n",
    "buffer = 1024\n",
    "max_connections = 1000\n",
    "client_buffer = 1024\n",
    "# To send encoding message utf-8 encoding format is used.\n",
    "encoding_format = 'utf-8'\n",
    "print(IP_address)"
   ]
  },
  {
   "cell_type": "code",
   "execution_count": 3,
   "id": "5b21f29c",
   "metadata": {},
   "outputs": [],
   "source": [
    "validation = pd.DataFrame(pd.read_excel(\"validation.xlsx\"))"
   ]
  },
  {
   "cell_type": "code",
   "execution_count": 4,
   "id": "91eb44f2",
   "metadata": {},
   "outputs": [],
   "source": [
    "def validateLogin(username, password):\n",
    "    available_files = []\n",
    "    for i in range(len(validation[\"username\"])):\n",
    "        if validation.loc[i][0] == username:\n",
    "            if validation.loc[i][1] == password:\n",
    "                output = \"success\"\n",
    "                username = username\n",
    "#                         readFiles()\n",
    "            else:\n",
    "                output = \"not success\"\n",
    "                print(\"wrong password\")\n",
    "            break\n",
    "        else:\n",
    "            output = \"not user\"\n",
    "            print(\"not user\")\n",
    "        print(\"Done\")\n",
    "    return output\n",
    "\n",
    "def perform_operation(conn, addr):\n",
    "    \n",
    "#  Getting the data from the client \n",
    "\n",
    "    while True:\n",
    "        data1 = conn.recv(buffer)\n",
    "        content = pickle.loads(data1)\n",
    "        operation = content[0]\n",
    "        \n",
    "########################################################################################\n",
    "# This section is for looping the connection to all server to make update in all server.\n",
    "########################################################################################\n",
    "        if operation == \"validation\":\n",
    "            print(content[1])\n",
    "            print(content[2])\n",
    "            valid = validateLogin(content[1], content[2])\n",
    "            print(valid)\n",
    "            conn.send(valid.encode())\n",
    "            \n",
    "            \n",
    "        else:\n",
    "            for i in range(3): \n",
    "                with s.socket(s.AF_INET, s.SOCK_STREAM) as client:\n",
    "                    client.connect((IP[i], port[i]))\n",
    "\n",
    "\n",
    "                    # This section is to read the file from single server instead of going through all server.\n",
    "    #                 if operation.lower().strip() == \"readfile\":\n",
    "    #                     client.send(data1)\n",
    "    #                     data = client.recv(client_buffer)\n",
    "    #                     break\n",
    "    #                 else:\n",
    "    #                     client.send(data1)\n",
    "    #                     data = client.recv(client_buffer)\n",
    "\n",
    "\n",
    "                    client.send(data1)\n",
    "                    data = client.recv(client_buffer)\n",
    "\n",
    "            conn.send(data)\n",
    "    print(f\"[Disconnect] Disconnected {addr} client\")\n",
    "    conn.close()"
   ]
  },
  {
   "cell_type": "code",
   "execution_count": 5,
   "id": "a0373f4f",
   "metadata": {},
   "outputs": [],
   "source": [
    "def connect_server():\n",
    "    #creating a new socket\n",
    "    #socket functions takes as argument the socket family and socket type\n",
    "    with s.socket(s.AF_INET, s.SOCK_STREAM) as server:\n",
    "        server.setsockopt(s.SOL_SOCKET, s.SO_REUSEADDR, 1)\n",
    "        try:\n",
    "            server.bind((IP_address, port1))\n",
    "        except:\n",
    "            print(\"Error in binding the socket\")\n",
    "            sys.exit()\n",
    "        thread_list = []\n",
    "        server.listen(max_connections) #queues upto 10 requests\n",
    "        print(f\"Server listening upto {max_connections - (threading.activeCount()-1)} connections\\n\")\n",
    "        while True:\n",
    "            connection, client_addr = server.accept()\n",
    "            try:\n",
    "                conn_thread = threading.Thread(target=perform_operation, args=(connection, client_addr))\n",
    "                conn_thread.start()\n",
    "                #thread_list.append(conn_thread)\n",
    "                print(f\"Total Active connections {threading.activeCount()-1}\")\n",
    "            except:\n",
    "                print(\"Error in starting the thread\")\n",
    "                traceback.print_exc()"
   ]
  },
  {
   "cell_type": "code",
   "execution_count": null,
   "id": "8810bd22",
   "metadata": {},
   "outputs": [
    {
     "name": "stdout",
     "output_type": "stream",
     "text": [
      "Server listening upto 995 connections\n",
      "\n",
      "Total Active connections 6\n"
     ]
    },
    {
     "name": "stderr",
     "output_type": "stream",
     "text": [
      "Exception in thread Thread-8:\n",
      "Traceback (most recent call last):\n",
      "  File \"C:\\Users\\dhruv\\anaconda3\\lib\\threading.py\", line 973, in _bootstrap_inner\n",
      "    self.run()\n",
      "  File \"C:\\Users\\dhruv\\anaconda3\\lib\\threading.py\", line 910, in run\n",
      "    self._target(*self._args, **self._kwargs)\n",
      "  File \"C:\\Users\\dhruv\\AppData\\Local\\Temp/ipykernel_14360/877555406.py\", line 26, in perform_operation\n",
      "EOFError: Ran out of input\n"
     ]
    },
    {
     "name": "stdout",
     "output_type": "stream",
     "text": [
      "dhruvjpatel\n",
      "djp\n",
      "Hello Everyone\n",
      "wrong username\n",
      "wrong username\n",
      "wrong username\n",
      "wrong username\n",
      "wrong username\n",
      "not user\n",
      "Total Active connections 6\n"
     ]
    },
    {
     "name": "stderr",
     "output_type": "stream",
     "text": [
      "Exception in thread Thread-9:\n",
      "Traceback (most recent call last):\n",
      "  File \"C:\\Users\\dhruv\\anaconda3\\lib\\threading.py\", line 973, in _bootstrap_inner\n",
      "    self.run()\n",
      "  File \"C:\\Users\\dhruv\\anaconda3\\lib\\threading.py\", line 910, in run\n",
      "    self._target(*self._args, **self._kwargs)\n",
      "  File \"C:\\Users\\dhruv\\AppData\\Local\\Temp/ipykernel_14360/877555406.py\", line 26, in perform_operation\n",
      "EOFError: Ran out of input\n"
     ]
    },
    {
     "name": "stdout",
     "output_type": "stream",
     "text": [
      "dhruv\n",
      "djp\n",
      "Hello Everyone\n",
      "wrong password\n",
      "not success\n",
      "Total Active connections 6\n",
      "dhruv\n",
      "dhruvjpatel68!\n",
      "Hello Everyone\n",
      "Done\n",
      "success\n"
     ]
    },
    {
     "name": "stderr",
     "output_type": "stream",
     "text": [
      "Exception in thread Thread-10:\n",
      "Traceback (most recent call last):\n",
      "  File \"C:\\Users\\dhruv\\anaconda3\\lib\\threading.py\", line 973, in _bootstrap_inner\n",
      "    self.run()\n",
      "  File \"C:\\Users\\dhruv\\anaconda3\\lib\\threading.py\", line 910, in run\n",
      "    self._target(*self._args, **self._kwargs)\n",
      "  File \"C:\\Users\\dhruv\\AppData\\Local\\Temp/ipykernel_14360/877555406.py\", line 26, in perform_operation\n",
      "_pickle.UnpicklingError: could not find MARK\n"
     ]
    }
   ],
   "source": [
    "if __name__ == \"__main__\":\n",
    "    connect_server()"
   ]
  },
  {
   "cell_type": "code",
   "execution_count": null,
   "id": "d2a3c472",
   "metadata": {},
   "outputs": [],
   "source": []
  },
  {
   "cell_type": "code",
   "execution_count": null,
   "id": "923bd57e",
   "metadata": {},
   "outputs": [],
   "source": []
  }
 ],
 "metadata": {
  "kernelspec": {
   "display_name": "Python 3 (ipykernel)",
   "language": "python",
   "name": "python3"
  },
  "language_info": {
   "codemirror_mode": {
    "name": "ipython",
    "version": 3
   },
   "file_extension": ".py",
   "mimetype": "text/x-python",
   "name": "python",
   "nbconvert_exporter": "python",
   "pygments_lexer": "ipython3",
   "version": "3.9.7"
  }
 },
 "nbformat": 4,
 "nbformat_minor": 5
}
