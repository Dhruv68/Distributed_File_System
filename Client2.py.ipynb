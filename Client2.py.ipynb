{
 "cells": [
  {
   "cell_type": "code",
   "execution_count": 1,
   "id": "3ec5fe36",
   "metadata": {},
   "outputs": [],
   "source": [
    "import os\n",
    "import socket as c"
   ]
  },
  {
   "cell_type": "code",
   "execution_count": 2,
   "id": "737368e8",
   "metadata": {},
   "outputs": [],
   "source": [
    "#client_IP_address = socket.gethostbyname(socket.gethostname)\n",
    "client_IP_address = '127.0.0.1'\n",
    "socket_port = 8088\n",
    "client_buffer = 1024\n",
    "encoding_format = 'utf-8'"
   ]
  },
  {
   "cell_type": "code",
   "execution_count": 3,
   "id": "a968507d",
   "metadata": {},
   "outputs": [],
   "source": [
    "#client_IP_address = sys.argv[1]\n",
    "#socket_port = sys.argv[2]\n",
    "\n",
    "def create_client():\n",
    "    with c.socket(c.AF_INET, c.SOCK_STREAM) as client:\n",
    "        client.connect((client_IP_address, socket_port))\n",
    "        #print(client.recv(client_buffer).decode('utf-8'))\n",
    "        #client.sendall(b\"Hello from client\")\n",
    "        while True:\n",
    "                data = client.recv(client_buffer).decode(encoding_format)\n",
    "                operation, msg = data.split(\"@\")\n",
    "                print(operation, msg)\n",
    "                if operation.lower().strip() == \"disconnect\":\n",
    "                    print(f\"{msg}\")\n",
    "                    break\n",
    "                elif operation.lower().strip() == \"ack\":\n",
    "                    print(f\"{msg}\")\n",
    "                \n",
    "                print(\"Enter the operation to be performed\")\n",
    "                data = input(\"-> \")\n",
    "                data = data.split(\" \")\n",
    "                operation = data[0]\n",
    "                \n",
    "                if operation.lower().strip() == \"help\":\n",
    "                    client.send(operation.encode(encoding_format))\n",
    "                elif operation.lower().strip() == \"message\":\n",
    "                    client.send(operation.encode(encoding_formate))\n",
    "                elif operation.lower().strip() == \"logout\":\n",
    "                    client.send(operation.encode(encoding_format))\n",
    "                    break\n",
    "                \n",
    "    print(f\"Disconnected from the server\")\n",
    "    client.close()\n"
   ]
  },
  {
   "cell_type": "code",
   "execution_count": 4,
   "id": "806f7477",
   "metadata": {},
   "outputs": [
    {
     "name": "stdout",
     "output_type": "stream",
     "text": [
      "ACK Welcome to File Server\n",
      "\n",
      "Welcome to File Server\n",
      "\n",
      "Enter the operation to be performed\n",
      "-> logout\n",
      "Disconnected from the server\n"
     ]
    }
   ],
   "source": [
    "if __name__ == \"__main__\":\n",
    "    create_client()"
   ]
  },
  {
   "cell_type": "code",
   "execution_count": null,
   "id": "8c70a270",
   "metadata": {},
   "outputs": [],
   "source": []
  },
  {
   "cell_type": "code",
   "execution_count": 4,
   "id": "7e2683a8",
   "metadata": {},
   "outputs": [
    {
     "name": "stdout",
     "output_type": "stream",
     "text": [
      "Hi Everyone\n"
     ]
    }
   ],
   "source": [
    "# Create File\n",
    "\n",
    "\n",
    "\n",
    "# Read File\n",
    "f = open(\"C:\\\\Users\\dhruv\\Downloads\\py_files\\py_files\\dfs\\mytext.txt\", \"r\")\n",
    "print(f.read())"
   ]
  },
  {
   "cell_type": "code",
   "execution_count": 2,
   "id": "2c067c94",
   "metadata": {},
   "outputs": [],
   "source": []
  },
  {
   "cell_type": "code",
   "execution_count": null,
   "id": "9a1b724b",
   "metadata": {},
   "outputs": [],
   "source": []
  }
 ],
 "metadata": {
  "kernelspec": {
   "display_name": "Python 3 (ipykernel)",
   "language": "python",
   "name": "python3"
  },
  "language_info": {
   "codemirror_mode": {
    "name": "ipython",
    "version": 3
   },
   "file_extension": ".py",
   "mimetype": "text/x-python",
   "name": "python",
   "nbconvert_exporter": "python",
   "pygments_lexer": "ipython3",
   "version": "3.9.7"
  }
 },
 "nbformat": 4,
 "nbformat_minor": 5
}
