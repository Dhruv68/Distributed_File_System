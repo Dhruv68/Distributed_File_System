{
 "cells": [
  {
   "cell_type": "code",
   "execution_count": 1,
   "id": "5af81c4d",
   "metadata": {},
   "outputs": [],
   "source": [
    "import threading\n",
    "import time\n",
    "import schedule\n",
    "import os\n",
    "import ctypes\n",
    "import pandas as pd"
   ]
  },
  {
   "cell_type": "code",
   "execution_count": 2,
   "id": "4b3f1923",
   "metadata": {},
   "outputs": [],
   "source": [
    "def task():\n",
    "    \n",
    "    #     Check files in server 1\n",
    "    file_path = r'permissions.xlsx'\n",
    "    permissions_dataframe = pd.read_excel(file_path, index_col=0)\n",
    "    data = permissions_dataframe.columns\n",
    "    \n",
    "    file_list_s1 = []\n",
    "    path = 'C:/Users/dhruv/Desktop/PCS Project 1/Distributed_File_System/server1/files'\n",
    "    for root, directories, files in os.walk(path, topdown=False):\n",
    "        for name in files:\n",
    "            file_list_s1.append(name)\n",
    "        for name in directories:\n",
    "            file_list_s1.append(name)\n",
    "    \n",
    "    #     Check files in server 2\n",
    "    \n",
    "    file_list_s2 = []\n",
    "    path = 'C:/Users/dhruv/Desktop/PCS Project 1/Distributed_File_System/server2/files'\n",
    "    for root, directories, files in os.walk(path, topdown=False):\n",
    "        for name in files:\n",
    "            file_list_s2.append(name)\n",
    "        for name in directories:\n",
    "            file_list_s2.append(name)\n",
    "    \n",
    "    #     Check files in server 3\n",
    "    \n",
    "    file_list_s3 = []\n",
    "    path = 'C:/Users/dhruv/Desktop/PCS Project 1/Distributed_File_System/server3/files'\n",
    "    for root, directories, files in os.walk(path, topdown=False):\n",
    "        for name in files:\n",
    "            file_list_s3.append(name)\n",
    "        for name in directories:\n",
    "            file_list_s3.append(name)\n",
    "    \n",
    "    lost_file = []\n",
    "    \n",
    "    for file in data:\n",
    "        if file not in file_list_s1:\n",
    "            lost_file.append(file)\n",
    "            lost_file.append(\" file is deleted from Server 1\")\n",
    "    for file in data:\n",
    "        if file not in file_list_s2:\n",
    "            lost_file.append(file)\n",
    "            lost_file.append(\" file is deleted from Server 2\")\n",
    "    for file in data:\n",
    "        if file not in file_list_s3:\n",
    "                lost_file.append(file)\n",
    "                lost_file.append(\" file is deleted from Server 3\")   \n",
    "    if lost_file:\n",
    "        ctypes.windll.user32.MessageBoxW(0, str(lost_file), \"Malacious Detected\", 1)"
   ]
  },
  {
   "cell_type": "code",
   "execution_count": null,
   "id": "9c5481cb",
   "metadata": {},
   "outputs": [],
   "source": [
    "while 1:\n",
    "    task()\n",
    "    time.sleep(10)"
   ]
  }
 ],
 "metadata": {
  "kernelspec": {
   "display_name": "Python 3 (ipykernel)",
   "language": "python",
   "name": "python3"
  },
  "language_info": {
   "codemirror_mode": {
    "name": "ipython",
    "version": 3
   },
   "file_extension": ".py",
   "mimetype": "text/x-python",
   "name": "python",
   "nbconvert_exporter": "python",
   "pygments_lexer": "ipython3",
   "version": "3.9.7"
  }
 },
 "nbformat": 4,
 "nbformat_minor": 5
}
