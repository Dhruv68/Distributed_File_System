{
 "cells": [
  {
   "cell_type": "code",
   "execution_count": 4,
   "id": "7a6d95b3",
   "metadata": {},
   "outputs": [],
   "source": [
    "import threading\n",
    "import time\n",
    "import schedule\n",
    "import os\n",
    "import ctypes\n",
    "import pandas as pd"
   ]
  },
  {
   "cell_type": "code",
   "execution_count": 5,
   "id": "ab7bbb7d",
   "metadata": {},
   "outputs": [],
   "source": [
    "def task():\n",
    "    \n",
    "    #     Check files in server 1\n",
    "    file_path = r'permissions.xlsx'\n",
    "    permissions_dataframe = pd.read_excel(file_path, index_col=0)\n",
    "    data = permissions_dataframe.columns\n",
    "    \n",
    "    file_list_s1 = []\n",
    "    path = 'C:/Users/dhruv/Desktop/PCS Project 1/Distributed_File_System/server1/files'\n",
    "    for root, directories, files in os.walk(path, topdown=False):\n",
    "        for name in files:\n",
    "            file_list_s1.append(name)\n",
    "        for name in directories:\n",
    "            file_list_s1.append(name)\n",
    "    \n",
    "    #     Check files in server 2\n",
    "    \n",
    "    file_list_s2 = []\n",
    "    path = 'C:/Users/dhruv/Desktop/PCS Project 1/Distributed_File_System/server2/files'\n",
    "    for root, directories, files in os.walk(path, topdown=False):\n",
    "        for name in files:\n",
    "            file_list_s2.append(name)\n",
    "        for name in directories:\n",
    "            file_list_s2.append(name)\n",
    "    \n",
    "    #     Check files in server 3\n",
    "    \n",
    "    file_list_s3 = []\n",
    "    path = 'C:/Users/dhruv/Desktop/PCS Project 1/Distributed_File_System/server3/files'\n",
    "    for root, directories, files in os.walk(path, topdown=False):\n",
    "        for name in files:\n",
    "            file_list_s3.append(name)\n",
    "        for name in directories:\n",
    "            file_list_s3.append(name)\n",
    "    \n",
    "    lost_file = []\n",
    "    \n",
    "    for file in data:\n",
    "        if file not in file_list_s1:\n",
    "            lost_file.append(file)\n",
    "            lost_file.append(\" file is deleted from Server 1\")\n",
    "    for file in data:\n",
    "        if file not in file_list_s2:\n",
    "            lost_file.append(file)\n",
    "            lost_file.append(\" file is deleted from Server 2\")\n",
    "    for file in data:\n",
    "        if file not in file_list_s3:\n",
    "                lost_file.append(file)\n",
    "                lost_file.append(\" file is deleted from Server 3\")   \n",
    "    if lost_file:\n",
    "        ctypes.windll.user32.MessageBoxW(0, str(lost_file), \"Malacious Detected\", 1)"
   ]
  },
  {
   "cell_type": "code",
   "execution_count": 6,
   "id": "21e028f6",
   "metadata": {},
   "outputs": [
    {
     "ename": "KeyboardInterrupt",
     "evalue": "",
     "output_type": "error",
     "traceback": [
      "\u001b[1;31m---------------------------------------------------------------------------\u001b[0m",
      "\u001b[1;31mKeyboardInterrupt\u001b[0m                         Traceback (most recent call last)",
      "\u001b[1;32m~\\AppData\\Local\\Temp/ipykernel_29192/2912376101.py\u001b[0m in \u001b[0;36m<module>\u001b[1;34m\u001b[0m\n\u001b[0;32m      1\u001b[0m \u001b[1;32mwhile\u001b[0m \u001b[1;36m1\u001b[0m\u001b[1;33m:\u001b[0m\u001b[1;33m\u001b[0m\u001b[1;33m\u001b[0m\u001b[0m\n\u001b[0;32m      2\u001b[0m     \u001b[0mtask\u001b[0m\u001b[1;33m(\u001b[0m\u001b[1;33m)\u001b[0m\u001b[1;33m\u001b[0m\u001b[1;33m\u001b[0m\u001b[0m\n\u001b[1;32m----> 3\u001b[1;33m     \u001b[0mtime\u001b[0m\u001b[1;33m.\u001b[0m\u001b[0msleep\u001b[0m\u001b[1;33m(\u001b[0m\u001b[1;36m10\u001b[0m\u001b[1;33m)\u001b[0m\u001b[1;33m\u001b[0m\u001b[1;33m\u001b[0m\u001b[0m\n\u001b[0m",
      "\u001b[1;31mKeyboardInterrupt\u001b[0m: "
     ]
    }
   ],
   "source": [
    "while 1:\n",
    "    task()\n",
    "    time.sleep(10)"
   ]
  },
  {
   "cell_type": "code",
   "execution_count": null,
   "id": "6e9d5231",
   "metadata": {},
   "outputs": [],
   "source": []
  },
  {
   "cell_type": "code",
   "execution_count": null,
   "id": "9e8b1ede",
   "metadata": {},
   "outputs": [],
   "source": []
  }
 ],
 "metadata": {
  "kernelspec": {
   "display_name": "Python 3 (ipykernel)",
   "language": "python",
   "name": "python3"
  },
  "language_info": {
   "codemirror_mode": {
    "name": "ipython",
    "version": 3
   },
   "file_extension": ".py",
   "mimetype": "text/x-python",
   "name": "python",
   "nbconvert_exporter": "python",
   "pygments_lexer": "ipython3",
   "version": "3.9.7"
  }
 },
 "nbformat": 4,
 "nbformat_minor": 5
}
