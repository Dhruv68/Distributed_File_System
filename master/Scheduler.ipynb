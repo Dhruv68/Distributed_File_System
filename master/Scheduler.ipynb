{
 "cells": [
  {
   "cell_type": "code",
   "execution_count": 1,
   "id": "260ab43d",
   "metadata": {},
   "outputs": [],
   "source": [
    "# Import Libraries\n",
    "import threading\n",
    "import time\n",
    "# import schedule\n",
    "import os\n",
    "import ctypes\n",
    "import pandas as pd\n",
    "import base64\n",
    "import pyaes, pbkdf2, binascii, secrets\n",
    "from tkinter import *\n",
    "import tkinter.messagebox"
   ]
  },
  {
   "cell_type": "code",
   "execution_count": 2,
   "id": "6e755902",
   "metadata": {},
   "outputs": [],
   "source": [
    "#generating key with PBKDF2 for AES\n",
    "def getKey(): \n",
    "    password = \"s3cr3t*c0d3\"\n",
    "    passwordSalt = '76895'\n",
    "    key = pbkdf2.PBKDF2(password, passwordSalt).read(32)\n",
    "    return key"
   ]
  },
  {
   "cell_type": "code",
   "execution_count": 3,
   "id": "8378565e",
   "metadata": {},
   "outputs": [],
   "source": [
    "#AES data decryption\n",
    "def decrypt(enc): \n",
    "    aes = pyaes.AESModeOfOperationCTR(getKey(), pyaes.Counter(31129547035000047302952433967654195398124239844566322884172163637846056248223))\n",
    "    decrypted = aes.decrypt(enc)\n",
    "    return decrypted"
   ]
  },
  {
   "cell_type": "code",
   "execution_count": 4,
   "id": "8ff01171",
   "metadata": {},
   "outputs": [],
   "source": [
    "# This task function will fetech the files from the directories and check wether it is deleted physically on server or not\n",
    "\n",
    "def task():\n",
    "    \n",
    "    #     Check files in server 1\n",
    "    file_path = r'permissions.xlsx'\n",
    "    permissions_dataframe = pd.read_excel(file_path, index_col=0)\n",
    "    data = permissions_dataframe.columns\n",
    "    \n",
    "    file_list_s1 = []\n",
    "    path = 'C:/Users/dhruv/Desktop/PCS Final Project/Distributed_File_System/server1/files'\n",
    "    for root, directories, files in os.walk(path, topdown=False):\n",
    "        for name in files:\n",
    "            file_list_s1.append(name)\n",
    "        for name in directories:\n",
    "            file_list_s1.append(name)\n",
    "    \n",
    "    #     Check files in server 2\n",
    "    \n",
    "    file_list_s2 = []\n",
    "    path = 'C:/Users/dhruv/Desktop/PCS Final Project/Distributed_File_System/server2/files'\n",
    "    for root, directories, files in os.walk(path, topdown=False):\n",
    "        for name in files:\n",
    "            file_list_s2.append(name)\n",
    "        for name in directories:\n",
    "            file_list_s2.append(name)\n",
    "    \n",
    "    #     Check files in server 3\n",
    "    \n",
    "    file_list_s3 = []\n",
    "    path = 'C:/Users/dhruv/Desktop/PCS Final Project/Distributed_File_System/server3/files'\n",
    "    for root, directories, files in os.walk(path, topdown=False):\n",
    "        for name in files:\n",
    "            file_list_s3.append(name)\n",
    "        for name in directories:\n",
    "            file_list_s3.append(name)\n",
    "    \n",
    "#     This list will append all the files that are deleted physically on the server\n",
    "    lost_file = []\n",
    "    \n",
    "    for file in data:\n",
    "        if file not in file_list_s1:\n",
    "            file = base64.b64decode(str(file))\n",
    "            lost_file.append(decrypt(file))\n",
    "            lost_file.append(\" file is deleted from Server 1\")\n",
    "    for file in data:\n",
    "        if file not in file_list_s2:\n",
    "            file = base64.b64decode(str(file))\n",
    "            lost_file.append(decrypt(file))\n",
    "            lost_file.append(\" file is deleted from Server 2\")\n",
    "    for file in data:\n",
    "        if file not in file_list_s3:\n",
    "            file = base64.b64decode(str(file))\n",
    "            lost_file.append(decrypt(file))\n",
    "            lost_file.append(\" file is deleted from Server 3\")   \n",
    "    if lost_file:\n",
    "#         ctypes.windll.user32.MessageBoxW(0, str(lost_file), \"Malacious Detected\", 1)\n",
    "        tkinter.messagebox.showinfo(\"Malacious Detected\", str(lost_file))"
   ]
  },
  {
   "cell_type": "code",
   "execution_count": null,
   "id": "453c0bdc",
   "metadata": {},
   "outputs": [],
   "source": [
    "# Implementing the continuous loop of checking files\n",
    "while 1:\n",
    "    task()\n",
    "    time.sleep(10)"
   ]
  },
  {
   "cell_type": "code",
   "execution_count": null,
   "id": "c3594152",
   "metadata": {},
   "outputs": [],
   "source": []
  },
  {
   "cell_type": "code",
   "execution_count": null,
   "id": "6de5cb09",
   "metadata": {},
   "outputs": [],
   "source": []
  }
 ],
 "metadata": {
  "kernelspec": {
   "display_name": "Python 3 (ipykernel)",
   "language": "python",
   "name": "python3"
  },
  "language_info": {
   "codemirror_mode": {
    "name": "ipython",
    "version": 3
   },
   "file_extension": ".py",
   "mimetype": "text/x-python",
   "name": "python",
   "nbconvert_exporter": "python",
   "pygments_lexer": "ipython3",
   "version": "3.9.7"
  }
 },
 "nbformat": 4,
 "nbformat_minor": 5
}
